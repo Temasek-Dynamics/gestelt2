{
 "cells": [
  {
   "cell_type": "code",
   "execution_count": 9,
   "metadata": {},
   "outputs": [
    {
     "name": "stdout",
     "output_type": "stream",
     "text": [
      "Euler angles(ZYX) for Cam to body rotation: [ 89.53755807  -0.07329627 110.84079452] \n",
      "Translation for Cam to body rotation: [-0.07535705 -0.05172403  0.03221506] \n"
     ]
    }
   ],
   "source": [
    "from scipy.spatial.transform import Rotation as R\n",
    "import numpy as np\n",
    "\n",
    "np.set_printoptions(suppress=True) # Print in decimal instead of scientific notation\n",
    "\n",
    "# Input body to camera transformation matrix\n",
    "body_to_cam_translation = np.array([0.07535705, 0.05172403, -0.03221506])\n",
    "body_to_cam_rot_mat = R.from_quat([0.5842771492883054, -0.5800916313355842, 0.39932214971236324, -0.40330600395115485])\n",
    "\n",
    "# Output camera to body transformation matrix\n",
    "cam_to_body_rot_mat = body_to_cam_rot_mat.inv()\n",
    "print(f\"Euler angles(ZYX) for Cam to body rotation: {cam_to_body_rot_mat.as_euler('zyx', degrees=True)} \")\n",
    "print(f\"Translation for Cam to body rotation: {-body_to_cam_translation} \")\n"
   ]
  }
 ],
 "metadata": {
  "kernelspec": {
   "display_name": "Python 3",
   "language": "python",
   "name": "python3"
  },
  "language_info": {
   "codemirror_mode": {
    "name": "ipython",
    "version": 3
   },
   "file_extension": ".py",
   "mimetype": "text/x-python",
   "name": "python",
   "nbconvert_exporter": "python",
   "pygments_lexer": "ipython3",
   "version": "3.12.3"
  }
 },
 "nbformat": 4,
 "nbformat_minor": 2
}
